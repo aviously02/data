{
 "cells": [
  {
   "cell_type": "markdown",
   "id": "ab2bdbc1-b991-45c2-804d-86b7c8b08e57",
   "metadata": {},
   "source": [
    "# Fun Basics"
   ]
  },
  {
   "cell_type": "code",
   "execution_count": null,
   "id": "cc099375-3e56-4dd9-bccc-ca574c2cef5d",
   "metadata": {},
   "outputs": [],
   "source": [
    "3+7"
   ]
  },
  {
   "cell_type": "code",
   "execution_count": null,
   "id": "fe829160-5642-481c-b2ad-d7cc4d2f1056",
   "metadata": {},
   "outputs": [],
   "source": [
    "print(\"hello\")"
   ]
  },
  {
   "cell_type": "code",
   "execution_count": null,
   "id": "880a4382-ea31-4c5c-a523-b9f00ae4ad48",
   "metadata": {},
   "outputs": [],
   "source": [
    "name= \"Avi\"\n",
    "age= 21"
   ]
  },
  {
   "cell_type": "code",
   "execution_count": null,
   "id": "24b002de-20ac-46aa-9168-03e3c64ce6fb",
   "metadata": {},
   "outputs": [],
   "source": [
    "# This is a comment. It will not run\n",
    "# You can echovalues without using print in this notebook"
   ]
  },
  {
   "cell_type": "code",
   "execution_count": null,
   "id": "d2c1a713-de49-4962-8c03-7f55e5a8aaf1",
   "metadata": {},
   "outputs": [],
   "source": [
    "name"
   ]
  },
  {
   "cell_type": "markdown",
   "id": "928c94a2-1f58-4515-8d62-80e1ccb44621",
   "metadata": {},
   "source": [
    "# Variables and values"
   ]
  },
  {
   "cell_type": "code",
   "execution_count": null,
   "id": "20609b2f-628b-4764-8aa0-b80063aaa0c8",
   "metadata": {},
   "outputs": [],
   "source": [
    "# Variables can be used in calculations\n",
    "print(age)\n",
    "age = age + 3\n",
    "print (age)"
   ]
  },
  {
   "cell_type": "code",
   "execution_count": null,
   "id": "824b6aa0-b023-4777-a349-450160a55ab1",
   "metadata": {},
   "outputs": [],
   "source": [
    "# Order of Operations matters!\n",
    "first = 1\n",
    "second = first * 5\n",
    "first = 2\n",
    "print (first)\n",
    "print (second)"
   ]
  },
  {
   "cell_type": "code",
   "execution_count": null,
   "id": "c608c9ae-084e-481a-8f52-70ea9c913d8a",
   "metadata": {},
   "outputs": [],
   "source": [
    "# Values have types. Types affect what you can do with them.\n",
    "print (5-3)\n",
    "#print (\"hello\"-\"h\")"
   ]
  },
  {
   "cell_type": "code",
   "execution_count": null,
   "id": "6bc155e4-4f28-4f94-bdcb-34c28ab88ca0",
   "metadata": {},
   "outputs": [],
   "source": [
    "print(len(\"hello\"))\n",
    "#print(len(6))"
   ]
  },
  {
   "cell_type": "code",
   "execution_count": null,
   "id": "3beb20b5-eff6-444c-8185-74626d23db4d",
   "metadata": {},
   "outputs": [],
   "source": [
    "print (5 // 3)\n",
    "print (5 / 3)\n",
    "print (5 % 3)\n"
   ]
  },
  {
   "cell_type": "markdown",
   "id": "a907de87-87a3-4e4e-a110-fb8af7358436",
   "metadata": {},
   "source": [
    "# Getting Help"
   ]
  },
  {
   "cell_type": "code",
   "execution_count": null,
   "id": "18d67b2d-e905-4746-a00e-af9e6a0b4d64",
   "metadata": {},
   "outputs": [],
   "source": [
    "# Rounding numbers is built in\n",
    "round (3.14159)"
   ]
  },
  {
   "cell_type": "code",
   "execution_count": null,
   "id": "aed87979-13e9-4813-ac5b-ac9baaf9b4ba",
   "metadata": {},
   "outputs": [],
   "source": [
    "round(3.14159,2)"
   ]
  },
  {
   "cell_type": "code",
   "execution_count": null,
   "id": "4daa0548-2675-4866-8277-c89d2d230ac0",
   "metadata": {},
   "outputs": [],
   "source": [
    "round(3.14159, ndigits=2)"
   ]
  },
  {
   "cell_type": "code",
   "execution_count": null,
   "id": "b782279b-f7f6-491b-ab40-1bae11768f24",
   "metadata": {},
   "outputs": [],
   "source": [
    "# All functions return a new value\n",
    "rounded_pi=round(3.14159,2)\n",
    "print(rounded_pi)"
   ]
  },
  {
   "cell_type": "code",
   "execution_count": null,
   "id": "4138196d-be32-42e9-a07e-77d00def6035",
   "metadata": {},
   "outputs": [],
   "source": [
    "radiance=1.0\n",
    "radiance=max(2.1,2.0+min(radiance,1.1*radiance-0.5))\n",
    "print(radiance)"
   ]
  },
  {
   "cell_type": "code",
   "execution_count": null,
   "id": "9d43c74b-1477-4031-8002-4780d74f8158",
   "metadata": {},
   "outputs": [],
   "source": [
    "# Break down these operations\n",
    "radiance = 1.0\n",
    "min_arg_2= 1.1 * radiance -0.5\n",
    "print(\"Min arg2:\", min_arg_2)\n",
    "\n",
    "min_result = min(radiance, min_arg_2)\n",
    "print(\"Min result:\",min_result)\n",
    "\n",
    "radiance=max(2.1,2.0 + min_result)\n",
    "print(radiance)"
   ]
  },
  {
   "cell_type": "markdown",
   "id": "c7e417c5-bb54-49af-86e8-dc3c8e2f8e7c",
   "metadata": {},
   "source": [
    "# A Brief Interlude with Git"
   ]
  },
  {
   "cell_type": "markdown",
   "id": "6a12b8a4-ceec-47fe-8420-99e2cf21f71b",
   "metadata": {},
   "source": [
    "# Libraries"
   ]
  },
  {
   "cell_type": "code",
   "execution_count": null,
   "id": "fef02b2e-2dd0-4360-baea-692df56865e0",
   "metadata": {},
   "outputs": [],
   "source": [
    "import math"
   ]
  },
  {
   "cell_type": "code",
   "execution_count": null,
   "id": "ef00f1a5-9b0d-4227-85a8-f86c9df68932",
   "metadata": {},
   "outputs": [],
   "source": [
    "math.pi"
   ]
  },
  {
   "cell_type": "code",
   "execution_count": null,
   "id": "419ce8f7-82dd-42f5-990e-7fec7def6589",
   "metadata": {},
   "outputs": [],
   "source": [
    "print(math.cos(math.pi))"
   ]
  },
  {
   "cell_type": "code",
   "execution_count": null,
   "id": "8c680962-9509-43ed-9b7e-eb6feb4857bf",
   "metadata": {},
   "outputs": [],
   "source": [
    "# get complete help with help ()\n",
    "# help(math)\n",
    "# Get a list of options with dir()\n",
    "print(dir(math))"
   ]
  },
  {
   "cell_type": "markdown",
   "id": "7818f3eb-21d3-4e31-b6e4-efb086580ecc",
   "metadata": {},
   "source": [
    "# List"
   ]
  },
  {
   "cell_type": "code",
   "execution_count": null,
   "id": "3109bbb2-c7da-4f01-9b6b-7271b16107eb",
   "metadata": {},
   "outputs": [],
   "source": [
    "# A list is an ordered collection of stuff\n",
    "fruits = [\"apple\",\"banana\",\"cherry\",\"date\",\"elderberry\",\"fig\"]"
   ]
  },
  {
   "cell_type": "code",
   "execution_count": null,
   "id": "ad4d8dc7-db0a-4182-b7fb-679fceb00b42",
   "metadata": {},
   "outputs": [],
   "source": [
    "fruits"
   ]
  },
  {
   "cell_type": "code",
   "execution_count": null,
   "id": "0d640da0-eab6-4825-aa58-3455bf551712",
   "metadata": {},
   "outputs": [],
   "source": [
    "len(fruits)"
   ]
  },
  {
   "cell_type": "code",
   "execution_count": null,
   "id": "9fd1d6cb-d21f-48d9-9b45-d6cb3c46edb0",
   "metadata": {},
   "outputs": [],
   "source": [
    "# Lists are indeced by osition, counting from zero\n",
    "# First item\n",
    "print(fruits[0])"
   ]
  },
  {
   "cell_type": "code",
   "execution_count": null,
   "id": "94bcdbba-1a29-4ba7-9ad4-0a9d0b9f7219",
   "metadata": {},
   "outputs": [],
   "source": [
    "# Get subsets by slicing the list\n",
    "# Get the first 3 items\n",
    "fruits[0:3]"
   ]
  },
  {
   "cell_type": "code",
   "execution_count": null,
   "id": "71cc6c70-0f43-40a2-b37e-187f730983e1",
   "metadata": {},
   "outputs": [],
   "source": [
    "# Get items by step\n",
    "# Get the first five items, every other item\n",
    "fruits[0:5:2]"
   ]
  },
  {
   "cell_type": "markdown",
   "id": "75bc6d26-32a4-4f86-9eee-aea1ed86bd32",
   "metadata": {},
   "source": [
    "# Examles"
   ]
  },
  {
   "cell_type": "code",
   "execution_count": null,
   "id": "41c08f93-3c2d-49ed-898c-ff8bb1ee5a75",
   "metadata": {},
   "outputs": [],
   "source": [
    "fruits[-1]\n",
    "#fruits[20]\n",
    "fruits[-3]"
   ]
  },
  {
   "cell_type": "code",
   "execution_count": null,
   "id": "9c322c28-ca2d-479e-96d5-a417c0d1443a",
   "metadata": {},
   "outputs": [],
   "source": [
    "fruits[-1]"
   ]
  },
  {
   "cell_type": "code",
   "execution_count": null,
   "id": "835454b3-14d2-41d5-b36b-b7962fd4facd",
   "metadata": {},
   "outputs": [],
   "source": [
    "#fruits[20]"
   ]
  },
  {
   "cell_type": "markdown",
   "id": "83283910-e653-4b81-a99c-0472a794e24f",
   "metadata": {},
   "source": [
    "fruits[-3:]"
   ]
  },
  {
   "cell_type": "code",
   "execution_count": null,
   "id": "ca5e09c3-3376-4a8f-9c4e-d41ad2258c20",
   "metadata": {},
   "outputs": [],
   "source": [
    "print(fruits)"
   ]
  },
  {
   "cell_type": "markdown",
   "id": "1bb933ad-b20a-4bf1-86dd-32520c53a68e",
   "metadata": {},
   "source": [
    "# Adding stuff to lists"
   ]
  },
  {
   "cell_type": "code",
   "execution_count": null,
   "id": "0c58ecc5-4a30-4c42-80c3-47bbb10df743",
   "metadata": {},
   "outputs": [],
   "source": [
    "# Update a specific item\n",
    "print(fruits)\n",
    "fruits[0]= \"apricot\""
   ]
  },
  {
   "cell_type": "code",
   "execution_count": null,
   "id": "ae7f12da-84eb-4487-bb5a-8747ee929ad4",
   "metadata": {},
   "outputs": [],
   "source": [
    "# Add new items to the list\n",
    "fruits.append(\"grape\")\n",
    "print(fruits)"
   ]
  },
  {
   "cell_type": "code",
   "execution_count": null,
   "id": "9bad4f90-876b-4e79-adf2-069ad4c94cf2",
   "metadata": {},
   "outputs": [],
   "source": [
    "# Add items from a second list to the first list\n",
    "more_fruits=[\"honeydew\",\"imbe\",\"jackfruit\"]\n",
    "print(more_fruits)\n",
    "fruits.extend(more_fruits)\n",
    "print(fruits)"
   ]
  },
  {
   "cell_type": "code",
   "execution_count": null,
   "id": "9f3723ea-9d47-400f-a592-7aa5fda5f129",
   "metadata": {},
   "outputs": [],
   "source": [
    "# Many functions operate on collections\n",
    "# Asessing our wide receiving corp\n",
    "receiving_yards = [450,370,870,150]\n",
    "\n",
    "mean_yards = sum(receiving_yards)/len(receiving_yards)\n",
    "print(mean_yards)"
   ]
  },
  {
   "cell_type": "markdown",
   "id": "1f793a8f-29b3-4d15-af9e-069bb49b772f",
   "metadata": {},
   "source": [
    "# For loops"
   ]
  },
  {
   "cell_type": "code",
   "execution_count": null,
   "id": "726805f6-1d8d-4ec5-93eb-a547ca16460b",
   "metadata": {
    "scrolled": true
   },
   "outputs": [],
   "source": [
    "for fruit in fruits:\n",
    "    print(fruit)"
   ]
  },
  {
   "cell_type": "code",
   "execution_count": null,
   "id": "b8ee8577-a271-4572-a8ff-9814dd18e953",
   "metadata": {},
   "outputs": [],
   "source": [
    "# Code blocks can contain many statements\n",
    "primes = [2, 3, 5]\n",
    "for p in primes:\n",
    "    squared = p**2\n",
    "    cubed = p**3\n",
    "    print(p, squared, cubed)"
   ]
  },
  {
   "cell_type": "code",
   "execution_count": null,
   "id": "799b6446-6364-4779-9f10-3d219016ca25",
   "metadata": {},
   "outputs": [],
   "source": [
    "# Create a new collection from an existing collection\n",
    "primes_squared=[]\n",
    "for p in primes:\n",
    "    primes_squared.append(p ** 2)\n",
    "\n",
    "print(primes_squared)"
   ]
  },
  {
   "cell_type": "code",
   "execution_count": null,
   "id": "c4b21c1b-4fa9-4469-9025-1f5ad7bab3a2",
   "metadata": {},
   "outputs": [],
   "source": [
    "total_length=0\n",
    "for f in fruits:\n",
    "    length_each= len(f)\n",
    "    total_length = total_length+(length_each)\n",
    "    print(total_length)"
   ]
  },
  {
   "cell_type": "code",
   "execution_count": null,
   "id": "e3f321fb-140e-4e1a-8e25-e6438ff282f4",
   "metadata": {},
   "outputs": [],
   "source": [
    "print(fruits)"
   ]
  },
  {
   "cell_type": "code",
   "execution_count": null,
   "id": "4050026f-d5bd-491b-8093-d8493ba4b4dc",
   "metadata": {},
   "outputs": [],
   "source": [
    "# Generator comprehension\n",
    "sum(len(f) for f in fruits)"
   ]
  },
  {
   "cell_type": "code",
   "execution_count": null,
   "id": "2ab64ede-e518-494f-a1b3-d00807f472be",
   "metadata": {},
   "outputs": [],
   "source": [
    "joined_fruits = \"\".join(fruits)\n",
    "print(joined_fruits)\n",
    "print(len(joined_fruits))"
   ]
  },
  {
   "cell_type": "markdown",
   "id": "3ccf9dc7-c1fd-4ac8-8323-965d3a5a4404",
   "metadata": {},
   "source": [
    "# Linear Algebra with NumPy\n"
   ]
  },
  {
   "cell_type": "code",
   "execution_count": null,
   "id": "c59e5f49-d3f9-42ba-9849-1b42ff1ac4f7",
   "metadata": {},
   "outputs": [],
   "source": [
    "import numpy as np"
   ]
  },
  {
   "cell_type": "code",
   "execution_count": null,
   "id": "79bb4345-cdb8-4d17-a860-151f9cc81cda",
   "metadata": {},
   "outputs": [],
   "source": [
    "# Create an array of random numbers\n",
    "# Row, Column\n",
    "m_rand = np.random.rand(3,4)\n",
    "print(m_rand)"
   ]
  },
  {
   "cell_type": "code",
   "execution_count": null,
   "id": "bfd91ffd-bdda-4570-ac94-51cd1c5d0072",
   "metadata": {},
   "outputs": [],
   "source": [
    "m_rand[0,0]"
   ]
  },
  {
   "cell_type": "code",
   "execution_count": null,
   "id": "751dd64f-d1a2-4995-a2dc-ae80f23f261c",
   "metadata": {},
   "outputs": [],
   "source": [
    "# Row,Column\n",
    "m_rand[0,1]"
   ]
  },
  {
   "cell_type": "code",
   "execution_count": null,
   "id": "23b0eaca-421d-413e-aa16-7b75eb51bba6",
   "metadata": {},
   "outputs": [],
   "source": [
    "# Arrays have a bunch of attributes associated with it\n",
    "#shape of matrix\n",
    "print(m_rand.shape)\n",
    "#size of matrix\n",
    "print(m_rand.size)\n",
    "#number of dimensions\n",
    "print(m_rand.ndim)"
   ]
  },
  {
   "cell_type": "code",
   "execution_count": null,
   "id": "1e327273-2d72-4ef2-b930-c3d80d875095",
   "metadata": {},
   "outputs": [],
   "source": [
    "# Linear algerbra with Numpy\n",
    "# First Nine counting numbers\n",
    "x = np.arange(9)\n",
    "y = np.arange(9)\n",
    "print(x)\n",
    "print(y)"
   ]
  },
  {
   "cell_type": "code",
   "execution_count": null,
   "id": "d112773d-3091-4e59-9521-f4421989568e",
   "metadata": {},
   "outputs": [],
   "source": [
    "# Element-wise multiplication (operations are element-wise by default)\n",
    "x*y"
   ]
  },
  {
   "cell_type": "code",
   "execution_count": null,
   "id": "a0dbf8c8-0af7-459f-a4bf-27bc0895a3c9",
   "metadata": {},
   "outputs": [],
   "source": [
    "# Matrix-wise operations if you like (dot-product)\n",
    "x @ y"
   ]
  },
  {
   "cell_type": "code",
   "execution_count": null,
   "id": "71e51396-16ef-4161-b3d2-509f55a82223",
   "metadata": {},
   "outputs": [],
   "source": [
    "# You can reshape arrays into different formations (Row, Column)\n",
    "x1 = x.reshape(3,3)\n",
    "x2 = x.reshape(9,1)\n",
    "print(x)\n",
    "print(x1)\n",
    "print(x2)"
   ]
  },
  {
   "cell_type": "markdown",
   "id": "8b912136-b728-4f23-ad85-66841c4d23ba",
   "metadata": {},
   "source": [
    "## Challenge \n",
    "\n",
    "1. Create a 3 x 3 array with the number 0-8\n",
    "2. Multiply array by itself (elementwise)\n",
    "3. Multiply the array by its transpose"
   ]
  },
  {
   "cell_type": "code",
   "execution_count": null,
   "id": "96c9ce38-eb9b-45b9-871a-e222ab9f3265",
   "metadata": {},
   "outputs": [],
   "source": [
    "x = np.arange(9)\n",
    "x1= x.reshape(3,3)\n",
    "print(x1)"
   ]
  },
  {
   "cell_type": "code",
   "execution_count": null,
   "id": "3074b6d9-68ae-4927-b8fd-faa39be224a0",
   "metadata": {},
   "outputs": [],
   "source": [
    "# Use method chaining to do more work on one line \n",
    "demo = np.arange(9).reshape(3,3)\n",
    "print(demo)"
   ]
  },
  {
   "cell_type": "code",
   "execution_count": null,
   "id": "0a284776-aaa9-43a9-add7-477e43dba412",
   "metadata": {},
   "outputs": [],
   "source": [
    "demo*demo"
   ]
  },
  {
   "cell_type": "code",
   "execution_count": null,
   "id": "151b4a72-083b-441e-9af3-03a22c31526a",
   "metadata": {},
   "outputs": [],
   "source": [
    "# Get transpose, method 1\n",
    "demo * demo.T"
   ]
  },
  {
   "cell_type": "code",
   "execution_count": null,
   "id": "85b193ed-f082-4554-a4f1-54e4ba99c6bd",
   "metadata": {},
   "outputs": [],
   "source": [
    "# Get transpose, method 2\n",
    "demo * np.transpose(demo)"
   ]
  },
  {
   "cell_type": "code",
   "execution_count": null,
   "id": "885136c2-79aa-40d4-837f-e0b4fc2259eb",
   "metadata": {},
   "outputs": [],
   "source": [
    "#demo / demo  (can't divide by zero)"
   ]
  },
  {
   "cell_type": "markdown",
   "id": "370c8365-f3a7-4d8d-af01-01fe8d593118",
   "metadata": {},
   "source": [
    "# Working with Data in Pandas"
   ]
  },
  {
   "cell_type": "code",
   "execution_count": null,
   "id": "bd386deb-a34b-4396-a8e5-58039a52464f",
   "metadata": {},
   "outputs": [],
   "source": [
    "import pandas as pd"
   ]
  },
  {
   "cell_type": "code",
   "execution_count": null,
   "id": "fb2b1d54-6951-4453-bab1-2660ca85d953",
   "metadata": {},
   "outputs": [],
   "source": [
    "# Import data files\n",
    "data = pd.read_csv(\"gapminder_gdp_oceania.csv\")\n",
    "print(data)"
   ]
  },
  {
   "cell_type": "code",
   "execution_count": null,
   "id": "f60d6680-eed7-4bff-95e1-beec87632f8c",
   "metadata": {},
   "outputs": [],
   "source": [
    "# Print Nicely without using print\n",
    "data"
   ]
  },
  {
   "cell_type": "code",
   "execution_count": null,
   "id": "47c784ac-4fdf-4c05-8ae1-bfd07dc7517f",
   "metadata": {},
   "outputs": [],
   "source": [
    "# Import csv and index by country name (all \"countries\" need to be unique to work)\n",
    "data = pd.read_csv(\"gapminder_gdp_oceania.csv\", index_col = \"country\")"
   ]
  },
  {
   "cell_type": "code",
   "execution_count": null,
   "id": "b255e835-60eb-46bf-a5f5-60721426b311",
   "metadata": {},
   "outputs": [],
   "source": [
    "data"
   ]
  },
  {
   "cell_type": "code",
   "execution_count": null,
   "id": "0bbb4524-60a3-409d-945f-ce4e9da14467",
   "metadata": {},
   "outputs": [],
   "source": [
    "# Good advice about python \n",
    "import this"
   ]
  },
  {
   "cell_type": "code",
   "execution_count": null,
   "id": "40dedfc4-56b7-48bf-967d-3e320b75fd9d",
   "metadata": {},
   "outputs": [],
   "source": [
    "# Data frames have attributes\n",
    "print(data.index)\n",
    "print(data.columns)\n",
    "print(data.shape)"
   ]
  },
  {
   "cell_type": "code",
   "execution_count": null,
   "id": "5330c0da-509e-4237-a311-a37e38635cf9",
   "metadata": {},
   "outputs": [],
   "source": [
    "# Data frames can tell you about their content\n",
    "data.info()"
   ]
  },
  {
   "cell_type": "code",
   "execution_count": null,
   "id": "114fc9d7-8fe8-4614-8ed2-59d71300e26e",
   "metadata": {},
   "outputs": [],
   "source": [
    "# Get descriptive statistics \n",
    "data.describe()"
   ]
  },
  {
   "cell_type": "code",
   "execution_count": null,
   "id": "7847e4c3-8c34-4161-90e5-8b6258b2e4aa",
   "metadata": {},
   "outputs": [],
   "source": [
    "# Get the first n rows\n",
    "data.head(1)"
   ]
  },
  {
   "cell_type": "code",
   "execution_count": null,
   "id": "8fb91114-14ea-44bb-b32c-37759a8e0d55",
   "metadata": {},
   "outputs": [],
   "source": [
    "#help(data.describe()) if looking for help"
   ]
  },
  {
   "cell_type": "code",
   "execution_count": null,
   "id": "59924e66-fede-4802-81e1-60fe4bbe06ae",
   "metadata": {},
   "outputs": [],
   "source": [
    "# Swap rows and columns to describe\n",
    "data.T.describe()"
   ]
  },
  {
   "cell_type": "markdown",
   "id": "f08cd35e-d7e0-4bc0-b3dc-9816ddcfde04",
   "metadata": {},
   "source": [
    "# Subsetting Data"
   ]
  },
  {
   "cell_type": "code",
   "execution_count": null,
   "id": "7c824922-0107-4b7d-adff-3e6a57d5d204",
   "metadata": {},
   "outputs": [],
   "source": [
    "#Add data/file name to organize it\n",
    "data=pd.read_csv(\"gapminder_gdp_europe.csv\", index_col = \"country\")"
   ]
  },
  {
   "cell_type": "code",
   "execution_count": null,
   "id": "7b40f395-0361-40d3-9875-7db012306148",
   "metadata": {},
   "outputs": [],
   "source": [
    "data.head(3)"
   ]
  },
  {
   "cell_type": "code",
   "execution_count": null,
   "id": "45601a2e-4cc9-4d00-90d6-a4284fc41967",
   "metadata": {},
   "outputs": [],
   "source": [
    "# Get item by index location (dumb way to do it)\n",
    "data.iloc[0,0]"
   ]
  },
  {
   "cell_type": "code",
   "execution_count": null,
   "id": "1c636c07-31e0-4ef1-b4a3-8818b3b59f1e",
   "metadata": {},
   "outputs": [],
   "source": [
    "# Get item by label\n",
    "data.loc[\"Albania\", \"gdpPercap_1952\"]"
   ]
  },
  {
   "cell_type": "markdown",
   "id": "deaa0314-c9e6-4ff8-8a68-368edf86a939",
   "metadata": {},
   "source": [
    "# A brief digression on string methods"
   ]
  },
  {
   "cell_type": "code",
   "execution_count": null,
   "id": "406d96f7-cc95-4612-a9b3-f1d4c2095bd5",
   "metadata": {},
   "outputs": [],
   "source": [
    "# Standard python has string methods\n",
    "# Capitalize\n",
    "big_hello = \"hello\".title()\n",
    "print(big_hello)"
   ]
  },
  {
   "cell_type": "code",
   "execution_count": null,
   "id": "1fd43702-0354-4f8d-805f-09d086637ed9",
   "metadata": {},
   "outputs": [],
   "source": [
    "# What methods are available?\n",
    "print(dir(\"hello\"))"
   ]
  },
  {
   "cell_type": "code",
   "execution_count": null,
   "id": "eed47b7e-4235-4311-b890-e475db44abc0",
   "metadata": {},
   "outputs": [],
   "source": [
    "print(data.columns)"
   ]
  },
  {
   "cell_type": "code",
   "execution_count": null,
   "id": "bb1a01c2-edbe-4b7a-a0fa-f8769d658071",
   "metadata": {},
   "outputs": [],
   "source": [
    "# What string methods can I do to all the columns?\n",
    "print(dir(data.columns.str))"
   ]
  },
  {
   "cell_type": "code",
   "execution_count": null,
   "id": "d2fe9289-909e-4d7a-b2b2-0bc373a4b5bb",
   "metadata": {},
   "outputs": [],
   "source": [
    "# Rewrite column headers to strip off leading text\n",
    "data.columns = data.columns.str.strip(\"gdpPercap_\")\n",
    "print(data.columns)"
   ]
  },
  {
   "cell_type": "code",
   "execution_count": null,
   "id": "4017f5f9-05c3-48a6-9081-df47c217fc29",
   "metadata": {},
   "outputs": [],
   "source": [
    "data.loc[\"Albania\", \"1952\"]"
   ]
  },
  {
   "cell_type": "code",
   "execution_count": null,
   "id": "d412e6de-2234-4970-b3a3-0468692e891a",
   "metadata": {},
   "outputs": [],
   "source": [
    "# Italy through poland from 1962-1972\n",
    "subset = data.loc[\"Italy\":\"Poland\",\"1962\":\"1972\"]"
   ]
  },
  {
   "cell_type": "code",
   "execution_count": null,
   "id": "32889970-e670-4fd4-ad54-5cd1310f13dd",
   "metadata": {},
   "outputs": [],
   "source": [
    "subset"
   ]
  },
  {
   "cell_type": "code",
   "execution_count": null,
   "id": "1df28ad7-94e4-42bc-a696-13e98cb21752",
   "metadata": {},
   "outputs": [],
   "source": [
    "# Get all of the variables for aubset of rows \n",
    "data.loc[\"Italy\":\"Poland\",:]"
   ]
  },
  {
   "cell_type": "code",
   "execution_count": null,
   "id": "13d8d777-af47-4537-89a8-e7c067bb1089",
   "metadata": {},
   "outputs": [],
   "source": [
    "subset.describe()"
   ]
  },
  {
   "cell_type": "code",
   "execution_count": null,
   "id": "df8f9eac-5614-46bc-9154-6a5d94206e43",
   "metadata": {},
   "outputs": [],
   "source": [
    "subset.max()"
   ]
  },
  {
   "cell_type": "markdown",
   "id": "7585b44e-c5f9-4682-91cd-c51bab249cfa",
   "metadata": {},
   "source": [
    "## Challenge\n",
    "1. Calculate subset max() and assign the result to a variable. What kind of thing is it?\n",
    "2. What is the maximum value of the new thing?\n",
    "3. Can you calculate the max value of the new thing in one step?"
   ]
  },
  {
   "cell_type": "code",
   "execution_count": null,
   "id": "046fa4e2-9937-49c4-bc8c-73a3f08375b0",
   "metadata": {},
   "outputs": [],
   "source": [
    "sm= subset.max()\n",
    "print(sm)"
   ]
  },
  {
   "cell_type": "code",
   "execution_count": null,
   "id": "0bbb1ac3-48ba-41ff-9792-2ade26839291",
   "metadata": {},
   "outputs": [],
   "source": [
    "print(type(subset))\n",
    "print(type(sm))"
   ]
  },
  {
   "cell_type": "code",
   "execution_count": null,
   "id": "85ed87b0-6c8c-4418-8e09-b4f2bb193578",
   "metadata": {},
   "outputs": [],
   "source": [
    "max_sm=max(sm)\n",
    "print(max_sm)"
   ]
  },
  {
   "cell_type": "code",
   "execution_count": null,
   "id": "2e985947-cce5-4a15-9047-286235cfd1b4",
   "metadata": {},
   "outputs": [],
   "source": [
    "# Do it in one step\n",
    "subset.max().max()"
   ]
  },
  {
   "cell_type": "code",
   "execution_count": null,
   "id": "e748d6e0-f1cf-4ded-8435-d03343da3a04",
   "metadata": {},
   "outputs": [],
   "source": [
    "# Other solution\n",
    "print(\"Default max\")\n",
    "print(subset.max())\n",
    "print(\"Max along axis 0\")\n",
    "print(subset.max(axis=0))\n",
    "print(\"Max along axis 1\")\n",
    "print(subset.max(axis=1))"
   ]
  },
  {
   "cell_type": "code",
   "execution_count": null,
   "id": "b1c860dd-cf6e-423e-ab82-06f825653cc8",
   "metadata": {},
   "outputs": [],
   "source": [
    "# Get max for overall data frame (not row or column) \n",
    "subset.max(axis=None)"
   ]
  },
  {
   "cell_type": "markdown",
   "id": "b84f5520-5ddc-4f51-9bf7-716135922bfa",
   "metadata": {},
   "source": [
    "# Filter Data by Criteria"
   ]
  },
  {
   "cell_type": "code",
   "execution_count": null,
   "id": "4e9d0abd-97ba-4004-aa8c-6934b271d81e",
   "metadata": {},
   "outputs": [],
   "source": [
    "subset"
   ]
  },
  {
   "cell_type": "code",
   "execution_count": null,
   "id": "8697aacc-f649-46dc-a592-68c71ce2cfcb",
   "metadata": {},
   "outputs": [],
   "source": [
    "# Get GDP's greater than 10,000\n",
    "subset> 10000"
   ]
  },
  {
   "cell_type": "code",
   "execution_count": null,
   "id": "c5e0592d-0b30-4d7b-a162-6e4b74c2f44c",
   "metadata": {},
   "outputs": [],
   "source": [
    "# Filter data fram by criterion\n",
    "df = subset[subset > 10000]\n",
    "df"
   ]
  },
  {
   "cell_type": "code",
   "execution_count": null,
   "id": "5073bcf1-9142-4abc-9486-150bfc0cc9d6",
   "metadata": {},
   "outputs": [],
   "source": [
    "# Get everything above the median\n",
    "subset[subset > subset.median(axis=None)]"
   ]
  },
  {
   "cell_type": "code",
   "execution_count": null,
   "id": "c04789a3-ab57-4033-8cc5-a62485844cec",
   "metadata": {},
   "outputs": [],
   "source": [
    "df"
   ]
  },
  {
   "cell_type": "markdown",
   "id": "fa6ad736-4a02-4105-a3da-3b18d951c2c1",
   "metadata": {},
   "source": [
    "# Working with Missing Data"
   ]
  },
  {
   "cell_type": "code",
   "execution_count": null,
   "id": "99ef874f-3d27-4d0c-893e-b3dc5d0609f0",
   "metadata": {},
   "outputs": [],
   "source": [
    "# Missing Data is ignored by default\n",
    "print(\"Column means\")\n",
    "print(df.mean())\n",
    "\n",
    "print(\"Row means\")\n",
    "print(df.mean(axis=1))\n"
   ]
  },
  {
   "cell_type": "code",
   "execution_count": null,
   "id": "85ce247d-2d73-4b8e-806a-fc1dd05a9995",
   "metadata": {},
   "outputs": [],
   "source": [
    "# Check for missing values\n",
    "df.isna()\n",
    "# True --> this number is missing"
   ]
  },
  {
   "cell_type": "code",
   "execution_count": null,
   "id": "98082050-cb55-40da-a2d3-5a8d659ef97b",
   "metadata": {},
   "outputs": [],
   "source": [
    "# Count our missing values \n",
    "# Missing by row\n",
    "df.isna().sum()"
   ]
  },
  {
   "cell_type": "code",
   "execution_count": null,
   "id": "0fa63604-1ccb-48bf-97b0-1f88e1d9f7e5",
   "metadata": {},
   "outputs": [],
   "source": [
    "# Check total missing values\n",
    "df.isna().sum().sum()"
   ]
  },
  {
   "cell_type": "code",
   "execution_count": null,
   "id": "97fc3e3d-194c-48bc-b3cd-8b56d4b8b61c",
   "metadata": {},
   "outputs": [],
   "source": [
    "# Drop missing values \n",
    "df.dropna()"
   ]
  },
  {
   "cell_type": "code",
   "execution_count": null,
   "id": "80de83eb-e4fd-4e1d-a42d-29a715291591",
   "metadata": {},
   "outputs": [],
   "source": [
    "# Replace missing values with a fixed value\n",
    "df_fixed = df.fillna(99)\n",
    "print(df_fixed)"
   ]
  },
  {
   "cell_type": "code",
   "execution_count": null,
   "id": "89739862-d23d-4a39-acf0-5bf4b2841150",
   "metadata": {},
   "outputs": [],
   "source": [
    "# Replace missing values with interpolated data\n",
    "df_interpolated=df.interpolate()\n",
    "print(df_interpolated)"
   ]
  },
  {
   "cell_type": "markdown",
   "id": "0f8cabf3-561d-499a-8caa-5777761c5547",
   "metadata": {},
   "source": [
    "## Challenge: The perils of missing data\n",
    "1. Create an array of random numbers matching the \"data\" dataframe\n",
    "\n",
    "random_filter = np.random.ran(30,12) * data.max(axis=None)\n",
    "\n",
    "2. Create a new data frame that filters out all values lower than the random numbers\n",
    "3. Interpolate new values for the missing data in the new data frame. How accurate is it?"
   ]
  },
  {
   "cell_type": "code",
   "execution_count": null,
   "id": "239a27dc-a2e6-4309-8615-a4930ea0a459",
   "metadata": {},
   "outputs": [],
   "source": [
    "random_filter=np.random.rand(30,12)*data.max(axis=None)\n",
    "dff= data[data>random_filter]\n",
    "dff_interpolated=dff.interpolate()\n",
    "#print(np.std(data,axis=0))\n",
    "#print(np.std(dff,axis=0))\n",
    "#print(np.std((data,dff),axis=None))"
   ]
  },
  {
   "cell_type": "code",
   "execution_count": null,
   "id": "d757a42f-b84d-4e33-9711-c337bafc04e8",
   "metadata": {},
   "outputs": [],
   "source": [
    "# His answer\n",
    "new_data = data[data > random_filter]\n",
    "new_data_interpolated=new_data.interpolate()\n",
    "data.describe()"
   ]
  },
  {
   "cell_type": "code",
   "execution_count": null,
   "id": "f26fb6cb-251b-4b63-8927-45c8c6239518",
   "metadata": {},
   "outputs": [],
   "source": [
    "new_data_interpolated.describe()"
   ]
  },
  {
   "cell_type": "markdown",
   "id": "d0d1f442-6ff1-4f4a-bef1-7e689f109ef6",
   "metadata": {},
   "source": [
    "# Sorting and Grouping Data"
   ]
  },
  {
   "cell_type": "code",
   "execution_count": null,
   "id": "5415f92c-465e-4b76-a0d4-0e68311b420d",
   "metadata": {},
   "outputs": [],
   "source": [
    "# Z score all of the GDP data points\n",
    "#ddof - degrees of freedom\n",
    "# data.values is a numpy precursor\n",
    "z = (data - data.mean(axis=None))/data.values.std(ddof=1)\n",
    "#z"
   ]
  },
  {
   "cell_type": "code",
   "execution_count": null,
   "id": "4100fefd-b240-45bf-9e39-bd1a4a4d1c47",
   "metadata": {},
   "outputs": [],
   "source": [
    "# Get mean z score for each county\n",
    "mean_z=z.mean(axis=1)\n",
    "mean_z.sort_values()"
   ]
  },
  {
   "cell_type": "code",
   "execution_count": null,
   "id": "1cb9aa63-1cff-4fd1-9fdb-18b66e4b71b3",
   "metadata": {},
   "outputs": [],
   "source": [
    "bool_z=mean_z >0\n",
    "bool_z"
   ]
  },
  {
   "cell_type": "code",
   "execution_count": null,
   "id": "01d5c37d-4939-4e55-8ba6-83cfc0067dc3",
   "metadata": {},
   "outputs": [],
   "source": [
    "# Add new columns to data frame\n",
    "data[\"mean_z\"]= mean_z\n",
    "data[\"wealthy\"]=bool_z\n",
    "data.head(3)"
   ]
  },
  {
   "cell_type": "code",
   "execution_count": null,
   "id": "9a639594-f087-491c-805d-240779296ce0",
   "metadata": {},
   "outputs": [],
   "source": [
    "# Get descriptive statistics for groups\n",
    "data.groupby(\"wealthy\").mean()"
   ]
  },
  {
   "cell_type": "code",
   "execution_count": null,
   "id": "dcbe3210-f138-4a3a-8e1d-5fff47106c54",
   "metadata": {},
   "outputs": [],
   "source": [
    "# Get descriptive statistics for each group\n",
    "data.groupby(\"wealthy\").describe()"
   ]
  },
  {
   "cell_type": "code",
   "execution_count": null,
   "id": "a5b74bc6-2928-40d9-a0bc-76d072e964a9",
   "metadata": {},
   "outputs": [],
   "source": [
    "# Write output to save chnages made\n",
    "data.to_csv(\"europe_normed.csv\")"
   ]
  },
  {
   "cell_type": "markdown",
   "id": "b9aef765-cbf4-42f1-afa4-6ad6f39db1a8",
   "metadata": {},
   "source": [
    "# Looping over data sets"
   ]
  },
  {
   "cell_type": "code",
   "execution_count": null,
   "id": "8bfff20d-9cbf-4e0d-95fc-a2cb5486e4b6",
   "metadata": {},
   "outputs": [],
   "source": [
    "import pandas as pd"
   ]
  },
  {
   "cell_type": "code",
   "execution_count": null,
   "id": "02c89c4d-2316-4f17-8f66-7f5e1367fd10",
   "metadata": {},
   "outputs": [],
   "source": [
    "# Import the data from files in a list\n",
    "file_list=[\"gapminder_gdp_africa.csv\",\"gapminder_gdp_asia.csv\"]\n",
    "\n",
    "for filename in file_list:\n",
    "    data = pd.read_csv(filename, index_col= \"country\")\n",
    "    print(filename)\n",
    "    print(data.head(1))"
   ]
  },
  {
   "cell_type": "code",
   "execution_count": null,
   "id": "ff3dc1aa-aa14-4df2-9122-db64393b879e",
   "metadata": {},
   "outputs": [],
   "source": [
    "# Automatically get a list of files (file things similarly to be able to use glob)\n",
    "import glob"
   ]
  },
  {
   "cell_type": "code",
   "execution_count": null,
   "id": "f21fef7c-8bfe-46a4-ae38-72e23a634fb7",
   "metadata": {},
   "outputs": [],
   "source": [
    "# Get all CSV filed (* means any characters before csv)\n",
    "glob.glob(\"*.csv\")"
   ]
  },
  {
   "cell_type": "code",
   "execution_count": null,
   "id": "5c2b427a-5e6b-4a41-9ed9-af3333fb1500",
   "metadata": {},
   "outputs": [],
   "source": [
    "# Get all CSV or TSV files (many charcaters.onecharacter sv)\n",
    "glob.glob(\"*.?sv\")"
   ]
  },
  {
   "cell_type": "code",
   "execution_count": null,
   "id": "67da6137-2397-4cbc-b530-2128d3f618d6",
   "metadata": {},
   "outputs": [],
   "source": [
    "# Get a list of all continents\n",
    "glob.glob(\"gapminder_gdp_*.csv\")"
   ]
  },
  {
   "cell_type": "code",
   "execution_count": null,
   "id": "619fa509-64c0-4da2-923e-c77092c75a0b",
   "metadata": {},
   "outputs": [],
   "source": [
    "# Get continent-level data and agregate into 1 data frame\n",
    "data_frames = []\n",
    "\n",
    "for filename in glob.glob(\"gapminder_gdp_*.csv\"):\n",
    "    print(filename)\n",
    "    data = pd.read_csv(filename, index_col= \"country\")\n",
    "    data_frames.append(data)\n",
    "\n",
    "# Concatenate data frames\n",
    "all_data = pd.concat(data_frames)"
   ]
  },
  {
   "cell_type": "code",
   "execution_count": null,
   "id": "05e02c4b-36b9-4a26-928e-4dd45d545e8d",
   "metadata": {},
   "outputs": [],
   "source": [
    "# Inspect our results\n",
    "print(all_data.shape)\n",
    "print(all_data.index)"
   ]
  },
  {
   "cell_type": "markdown",
   "id": "0c5755ec-3ba4-46e7-92c0-17c8c4043005",
   "metadata": {},
   "source": [
    "# Conditionals"
   ]
  },
  {
   "cell_type": "code",
   "execution_count": null,
   "id": "bccbc476-5285-4e70-b24f-176cc9c01f78",
   "metadata": {},
   "outputs": [],
   "source": [
    "# Does a file end in \"all.csv\"?\n",
    "for filename in glob.glob(\"gapminder*.csv\"):\n",
    "    print(\"Current file:\",filename)\n",
    "    print(filename.endswith(\"all.csv\"))"
   ]
  },
  {
   "cell_type": "code",
   "execution_count": null,
   "id": "7706e708-34d4-405f-ab71-71fe657d7d2f",
   "metadata": {},
   "outputs": [],
   "source": [
    "# Get the truth value of a statement (double = is testing for a quality)\n",
    "mass = 3\n",
    "\n",
    "print(mass==3)\n",
    "print(mass>5)\n",
    "print(mass<4)\n"
   ]
  },
  {
   "cell_type": "code",
   "execution_count": null,
   "id": "5c6fc94c-64b8-4947-a9c2-7f0f30af7994",
   "metadata": {},
   "outputs": [],
   "source": [
    "# Test for membership in a collection\n",
    "primes = [2,3,5]\n",
    "\n",
    "print(2 in primes)\n",
    "print(7 in primes)"
   ]
  },
  {
   "cell_type": "code",
   "execution_count": null,
   "id": "6d7e381b-5a2e-4b30-b601-5c86cb9f95be",
   "metadata": {},
   "outputs": [],
   "source": [
    "# Testing for missing values\n",
    "df"
   ]
  },
  {
   "cell_type": "code",
   "execution_count": null,
   "id": "bd6067b5-3d3b-4011-983b-a0d62c83ea90",
   "metadata": {},
   "outputs": [],
   "source": [
    "# Which values are missing?\n",
    "df.isna()"
   ]
  },
  {
   "cell_type": "code",
   "execution_count": null,
   "id": "9e2e1cfa-5df7-4cd1-b552-5f302d264198",
   "metadata": {},
   "outputs": [],
   "source": [
    "# Are any values missing?\n",
    "df.isna().any(axis=None)"
   ]
  },
  {
   "cell_type": "code",
   "execution_count": null,
   "id": "aaf5f8a7-100c-4024-afc4-83f1d4b1d621",
   "metadata": {},
   "outputs": [],
   "source": [
    "# Make choices with if - then statement\n",
    "mass = 2.0 \n",
    "\n",
    "if mass > 3.0:\n",
    "    print(mass,\"is large\")\n",
    "\n",
    "# if it isn't true then it wont print"
   ]
  },
  {
   "cell_type": "code",
   "execution_count": null,
   "id": "b7a33d89-17dd-44b9-97c4-1e08d52f8eea",
   "metadata": {},
   "outputs": [],
   "source": [
    "# Test for files ending in \"all.csv\"\n",
    "data_frames = []\n",
    "\n",
    "for filename in glob.glob(\"gapminder*.csv\"):\n",
    "    print(filename)\n",
    "    if not filename.endswith(\"all.csv\"):\n",
    "        print(\"Passes test:\",filename)\n",
    "        data = pd.read_csv(filename, index_col = \"country\")\n",
    "        data_frames.append(data)\n",
    "\n",
    "all_data = pd.concat(data_frames)\n",
    "print(all_data.shape)\n"
   ]
  },
  {
   "cell_type": "code",
   "execution_count": null,
   "id": "e0e7677d-ae12-4e62-9d7c-91f534878a12",
   "metadata": {},
   "outputs": [],
   "source": [
    "# Add an else condition\n",
    "mass = 2.0\n",
    "\n",
    "if mass > 3.0 :\n",
    "    print (mass,\"is large\")\n",
    "else: \n",
    "    print(mass, \"is small\")"
   ]
  },
  {
   "cell_type": "code",
   "execution_count": null,
   "id": "6a115325-694a-4ee9-b7e6-27acc9f363c5",
   "metadata": {},
   "outputs": [],
   "source": [
    "# Add an else condition\n",
    "mass = 2.5\n",
    "\n",
    "if mass > 3.0 :\n",
    "    print (mass,\"is large\")\n",
    "else: \n",
    "    print(mass, \"is small\")"
   ]
  },
  {
   "cell_type": "code",
   "execution_count": null,
   "id": "b4ddf71a-d10f-4649-a116-e069fbe2e5db",
   "metadata": {},
   "outputs": [],
   "source": [
    "data_frames=[]\n",
    "\n",
    "for filename in glob.glob(\"gapminder*.csv\"):\n",
    "    if filename.endswith(\"all.csv\"):\n",
    "        print(\"I dont want that\")\n",
    "    else:\n",
    "        print(\"Passes test:\", filename)\n",
    "        data = pd.read_csv(filename, index_col = \"country\")\n",
    "        data_frames.append(data)\n",
    "\n",
    "all_data = pd.concat(data_frames)\n",
    "print(all_data.shape)"
   ]
  },
  {
   "cell_type": "markdown",
   "id": "403e93be-7ae0-483d-80e1-e3aad4c88a44",
   "metadata": {},
   "source": [
    "# Challenge 1\n",
    "1. Iterate through all CSV files in directory\n",
    "2. Print the name and length of any file less than 30 rows long"
   ]
  },
  {
   "cell_type": "code",
   "execution_count": null,
   "id": "ce014dc4-4cdc-4a6f-81a6-f3cfac3cada1",
   "metadata": {},
   "outputs": [],
   "source": [
    "for filename in glob.glob(\"*.csv\"):\n",
    "    data=pd.read_csv(filename)\n",
    "    if data.shape[0]<30:\n",
    "        print(filename,data.shape[0])"
   ]
  },
  {
   "cell_type": "markdown",
   "id": "3850f668-7de2-407e-a13e-d48bade839a6",
   "metadata": {},
   "source": [
    "# Challenge 2\n",
    "1. Go through all files in directory\n",
    "2. Print any file name that include europe then print column names for that file"
   ]
  },
  {
   "cell_type": "code",
   "execution_count": null,
   "id": "1b017779-c129-44e8-be39-33314f9e4220",
   "metadata": {},
   "outputs": [],
   "source": [
    "for filename in glob.glob(\"*.csv\"):\n",
    "    # A string is kind of like a list  (.lower makes everything lowercase)\n",
    "    if \"europe\" in filename.lower():\n",
    "        print(filename)\n",
    "        data=pd.read_csv(filename)\n",
    "        \n",
    "        print(data.columns)"
   ]
  },
  {
   "cell_type": "code",
   "execution_count": null,
   "id": "17c19990-3605-4460-8f91-30fc9649b370",
   "metadata": {},
   "outputs": [],
   "source": [
    "# You can specifiy additional tests with elif\n",
    "mass = 3.5\n",
    "\n",
    "if mass >9.0:\n",
    "    print(mass, \"is huge\")\n",
    "elif mass >3.0:\n",
    "    print(mass,\"is large\")\n",
    "else: \n",
    "    print(mass, \"is small\")\n"
   ]
  },
  {
   "cell_type": "code",
   "execution_count": null,
   "id": "4bb527ac-1742-4066-8aa7-8055bbe54e0f",
   "metadata": {},
   "outputs": [],
   "source": [
    "# You can do more complicated tests\n",
    "mass = [1,2,3,4,5]\n",
    "velocity = [5,4,3,2,5]\n",
    "\n",
    "# Get each pair of measurements (1,5)..(5,5)\n",
    "for m, v in zip(mass,velocity):\n",
    "    if m<=3 and v<=3:\n",
    "        print(\"small and slow\")\n",
    "    elif m<=3 and v>3:\n",
    "        print(\"small and fast\")\n",
    "    elif m>3 and v <=3:\n",
    "        print(\"large and slow\")\n",
    "    else:\n",
    "        print(\"check data\")\n",
    "        "
   ]
  },
  {
   "cell_type": "markdown",
   "id": "fa225ce0-6741-4065-a21e-6451b8f9062d",
   "metadata": {},
   "source": [
    "# Creating Functions"
   ]
  },
  {
   "cell_type": "code",
   "execution_count": null,
   "id": "0091a6f9-6487-4b57-bec9-ab6911cfc816",
   "metadata": {},
   "outputs": [],
   "source": [
    "def print_greeting():\n",
    "    print(\"Hello!\")"
   ]
  },
  {
   "cell_type": "code",
   "execution_count": null,
   "id": "07252bcd-41e3-4151-abe7-f722b317697d",
   "metadata": {},
   "outputs": [],
   "source": [
    "print_greeting()"
   ]
  },
  {
   "cell_type": "code",
   "execution_count": null,
   "id": "7daa53a0-8202-48a7-a697-90b9fc49e379",
   "metadata": {},
   "outputs": [],
   "source": [
    "# Functions take arguments\n",
    "def print_date(year,month,day):\n",
    "    joined_date= \"/\".join([str(year),str(month),str(day)])\n",
    "    print(joined_date)"
   ]
  },
  {
   "cell_type": "code",
   "execution_count": null,
   "id": "774ac4ff-a7c1-48a7-b1e1-3500ec242959",
   "metadata": {},
   "outputs": [],
   "source": [
    "print_date(\"2020\",\"3\",\"18\")\n",
    "print_date(2020,3,18)"
   ]
  },
  {
   "cell_type": "code",
   "execution_count": null,
   "id": "3fdc2343-8913-4b64-977f-342432f3b54f",
   "metadata": {},
   "outputs": [],
   "source": [
    "# Test your data inside your function \"\"\" is for help instructions\n",
    "def average(values):\n",
    "    \"\"\"Return average of values, or None if no values are supplied. \"\"\"\n",
    "    \n",
    "    if len(values)== 0:\n",
    "        return None \n",
    "    else:\n",
    "        return sum(values)/len(values)"
   ]
  },
  {
   "cell_type": "code",
   "execution_count": null,
   "id": "afb4e1a9-0695-4624-ac2b-8918a37885c5",
   "metadata": {},
   "outputs": [],
   "source": [
    "a1= average ([1 ,2 ,3])\n",
    "print(a1)\n",
    "a2= average ([])\n",
    "print(a2)"
   ]
  },
  {
   "cell_type": "code",
   "execution_count": null,
   "id": "7fc39e26-1594-46f4-9498-1e560f33aff8",
   "metadata": {},
   "outputs": [],
   "source": [
    "#a3= average(3)\n",
    "#print(a3)"
   ]
  },
  {
   "cell_type": "code",
   "execution_count": null,
   "id": "9dcdccc5-dcc3-4b7f-856a-967c88217628",
   "metadata": {},
   "outputs": [],
   "source": [
    "z = (data - data.mean(axis=None))/data.values.std(ddof=1)"
   ]
  },
  {
   "cell_type": "markdown",
   "id": "94307bde-8f97-41a6-b08b-b01ea1f50bcb",
   "metadata": {},
   "source": [
    "# Challenge \n",
    "Write a function that encapsulates the z score calculation. Your function should do the following\n",
    "1. Read a csv into a data frame (argument is filename)\n",
    "2. Calculate z score for each item\n",
    "3. Calculate mean z score for each country\n",
    "4. Append the mean z score as a new column\n",
    "5. Return the Data frame "
   ]
  },
  {
   "cell_type": "code",
   "execution_count": null,
   "id": "268522ce-6357-4e47-b1a1-851bfdbf6b55",
   "metadata": {},
   "outputs": [],
   "source": [
    "def norm_data(filename, index_col=None):\n",
    "   \n",
    "    \"\"\"Add a Z score to a data frame.\"\"\"\n",
    "    # Import data\n",
    "    data=pd.read_csv(filename,index_col= index_col)\n",
    "\n",
    "    # Drop continet column if necessary, returns a new data frame\n",
    "    if \"continent\" in data.columns:\n",
    "        data=data.drop(\"continent\",axis=1)\n",
    "    \n",
    "    # Calculate Individual Z scored\n",
    "    z=(data-data.values.mean())/data.values.std()\n",
    "   \n",
    "    # Mean z score for each country\n",
    "    mean_z= z.mean(axis=1)\n",
    "\n",
    "    # Add new column to data frame\n",
    "    data[\"mean_z\"] = mean_z\n",
    "\n",
    "    return data\n",
    "    "
   ]
  },
  {
   "cell_type": "code",
   "execution_count": null,
   "id": "f22c24db-f940-4713-8000-fe10a4db08e7",
   "metadata": {},
   "outputs": [],
   "source": [
    "df = norm_data(\"gapminder_gdp_americas.csv\", index_col = \"country\")"
   ]
  },
  {
   "cell_type": "markdown",
   "id": "15271cf2-2693-4ac5-afb4-065c1e9d0b9a",
   "metadata": {},
   "source": [
    "# Putting it all together\n"
   ]
  },
  {
   "cell_type": "code",
   "execution_count": null,
   "id": "14ee4e61-7c81-42e7-8bf5-255e6d57d0be",
   "metadata": {},
   "outputs": [],
   "source": [
    "# Get all the files we care about and get z score by continent\n",
    "data_frames=[]\n",
    "\n",
    "for filename in glob.glob(\"gapminder*.csv\"):\n",
    "    if not filename.endswith(\"all.csv\"):\n",
    "        df = norm_data(filename,index_col=\"country\")\n",
    "        data_frames.append(df)\n",
    "\n",
    "all_data=pd.concat(data_frames)\n",
    "\n",
    "print(all_data.shape)\n",
    "print(all_data.columns)"
   ]
  }
 ],
 "metadata": {
  "kernelspec": {
   "display_name": "Python 3 (ipykernel)",
   "language": "python",
   "name": "python3"
  },
  "language_info": {
   "codemirror_mode": {
    "name": "ipython",
    "version": 3
   },
   "file_extension": ".py",
   "mimetype": "text/x-python",
   "name": "python",
   "nbconvert_exporter": "python",
   "pygments_lexer": "ipython3",
   "version": "3.12.4"
  }
 },
 "nbformat": 4,
 "nbformat_minor": 5
}
