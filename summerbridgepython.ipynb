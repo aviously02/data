{
 "cells": [
  {
   "cell_type": "code",
   "execution_count": null,
   "id": "cc099375-3e56-4dd9-bccc-ca574c2cef5d",
   "metadata": {},
   "outputs": [],
   "source": [
    "3+7"
   ]
  },
  {
   "cell_type": "code",
   "execution_count": null,
   "id": "fe829160-5642-481c-b2ad-d7cc4d2f1056",
   "metadata": {},
   "outputs": [],
   "source": [
    "print(\"hello\")"
   ]
  },
  {
   "cell_type": "code",
   "execution_count": null,
   "id": "880a4382-ea31-4c5c-a523-b9f00ae4ad48",
   "metadata": {},
   "outputs": [],
   "source": [
    "name= \"Avi\"\n",
    "age= 21"
   ]
  },
  {
   "cell_type": "code",
   "execution_count": null,
   "id": "24b002de-20ac-46aa-9168-03e3c64ce6fb",
   "metadata": {},
   "outputs": [],
   "source": [
    "# This is a comment. It will not run\n",
    "# You can echovalues without using print in this notebook"
   ]
  },
  {
   "cell_type": "code",
   "execution_count": null,
   "id": "d2c1a713-de49-4962-8c03-7f55e5a8aaf1",
   "metadata": {},
   "outputs": [],
   "source": [
    "name"
   ]
  },
  {
   "cell_type": "markdown",
   "id": "928c94a2-1f58-4515-8d62-80e1ccb44621",
   "metadata": {},
   "source": [
    "# Variables and values"
   ]
  },
  {
   "cell_type": "code",
   "execution_count": null,
   "id": "20609b2f-628b-4764-8aa0-b80063aaa0c8",
   "metadata": {},
   "outputs": [],
   "source": [
    "# Variables can be used in calculations\n",
    "print(age)\n",
    "age = age + 3\n",
    "print (age)"
   ]
  },
  {
   "cell_type": "code",
   "execution_count": null,
   "id": "824b6aa0-b023-4777-a349-450160a55ab1",
   "metadata": {},
   "outputs": [],
   "source": [
    "# Order of Operations matters!\n",
    "first = 1\n",
    "second = first * 5\n",
    "first = 2\n",
    "print (first)\n",
    "print (second)"
   ]
  },
  {
   "cell_type": "code",
   "execution_count": null,
   "id": "c608c9ae-084e-481a-8f52-70ea9c913d8a",
   "metadata": {},
   "outputs": [],
   "source": [
    "# Values have types. Types affect what you can do with them.\n",
    "print (5-3)\n",
    "#print (\"hello\"-\"h\")"
   ]
  },
  {
   "cell_type": "code",
   "execution_count": null,
   "id": "6bc155e4-4f28-4f94-bdcb-34c28ab88ca0",
   "metadata": {},
   "outputs": [],
   "source": [
    "print(len(\"hello\"))\n",
    "#print(len(6))"
   ]
  },
  {
   "cell_type": "code",
   "execution_count": null,
   "id": "3beb20b5-eff6-444c-8185-74626d23db4d",
   "metadata": {},
   "outputs": [],
   "source": [
    "print (5 // 3)\n",
    "print (5 / 3)\n",
    "print (5 % 3)\n"
   ]
  },
  {
   "cell_type": "markdown",
   "id": "a907de87-87a3-4e4e-a110-fb8af7358436",
   "metadata": {},
   "source": [
    "# Getting Help"
   ]
  },
  {
   "cell_type": "code",
   "execution_count": null,
   "id": "18d67b2d-e905-4746-a00e-af9e6a0b4d64",
   "metadata": {},
   "outputs": [],
   "source": [
    "# Rounding numbers is built in\n",
    "round (3.14159)"
   ]
  },
  {
   "cell_type": "code",
   "execution_count": null,
   "id": "aed87979-13e9-4813-ac5b-ac9baaf9b4ba",
   "metadata": {},
   "outputs": [],
   "source": [
    "round(3.14159,2)"
   ]
  },
  {
   "cell_type": "code",
   "execution_count": null,
   "id": "4daa0548-2675-4866-8277-c89d2d230ac0",
   "metadata": {},
   "outputs": [],
   "source": [
    "round(3.14159, ndigits=2)"
   ]
  },
  {
   "cell_type": "code",
   "execution_count": null,
   "id": "b782279b-f7f6-491b-ab40-1bae11768f24",
   "metadata": {},
   "outputs": [],
   "source": [
    "# All functions return a new value\n",
    "rounded_pi=round(3.14159,2)\n",
    "print(rounded_pi)"
   ]
  },
  {
   "cell_type": "code",
   "execution_count": null,
   "id": "4138196d-be32-42e9-a07e-77d00def6035",
   "metadata": {},
   "outputs": [],
   "source": [
    "radiance=1.0\n",
    "radiance=max(2.1,2.0+min(radiance,1.1*radiance-0.5))\n",
    "print(radiance)"
   ]
  },
  {
   "cell_type": "code",
   "execution_count": null,
   "id": "9d43c74b-1477-4031-8002-4780d74f8158",
   "metadata": {},
   "outputs": [],
   "source": [
    "# Break down these operations\n",
    "radiance = 1.0\n",
    "min_arg_2= 1.1 * radiance -0.5\n",
    "print(\"Min arg2:\", min_arg_2)\n",
    "\n",
    "min_result = min(radiance, min_arg_2)\n",
    "print(\"Min result:\",min_result)\n",
    "\n",
    "radiance=max(2.1,2.0 + min_result)\n",
    "print(radiance)"
   ]
  },
  {
   "cell_type": "markdown",
   "id": "6a12b8a4-ceec-47fe-8420-99e2cf21f71b",
   "metadata": {},
   "source": [
    "# Libraries"
   ]
  },
  {
   "cell_type": "markdown",
   "id": "c7e417c5-bb54-49af-86e8-dc3c8e2f8e7c",
   "metadata": {},
   "source": [
    "# A Brief Interlude with Git"
   ]
  },
  {
   "cell_type": "code",
   "execution_count": null,
   "id": "fef02b2e-2dd0-4360-baea-692df56865e0",
   "metadata": {},
   "outputs": [],
   "source": []
  },
  {
   "cell_type": "code",
   "execution_count": null,
   "id": "97817d00-c008-4d16-ad52-b0ca4844ffdf",
   "metadata": {},
   "outputs": [],
   "source": []
  }
 ],
 "metadata": {
  "kernelspec": {
   "display_name": "Python 3 (ipykernel)",
   "language": "python",
   "name": "python3"
  },
  "language_info": {
   "codemirror_mode": {
    "name": "ipython",
    "version": 3
   },
   "file_extension": ".py",
   "mimetype": "text/x-python",
   "name": "python",
   "nbconvert_exporter": "python",
   "pygments_lexer": "ipython3",
   "version": "3.12.4"
  }
 },
 "nbformat": 4,
 "nbformat_minor": 5
}
