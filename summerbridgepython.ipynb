{
 "cells": [
  {
   "cell_type": "markdown",
   "id": "ab2bdbc1-b991-45c2-804d-86b7c8b08e57",
   "metadata": {},
   "source": [
    "# Fun Basics"
   ]
  },
  {
   "cell_type": "code",
   "execution_count": null,
   "id": "cc099375-3e56-4dd9-bccc-ca574c2cef5d",
   "metadata": {},
   "outputs": [],
   "source": [
    "3+7"
   ]
  },
  {
   "cell_type": "code",
   "execution_count": null,
   "id": "fe829160-5642-481c-b2ad-d7cc4d2f1056",
   "metadata": {},
   "outputs": [],
   "source": [
    "print(\"hello\")"
   ]
  },
  {
   "cell_type": "code",
   "execution_count": null,
   "id": "880a4382-ea31-4c5c-a523-b9f00ae4ad48",
   "metadata": {},
   "outputs": [],
   "source": [
    "name= \"Avi\"\n",
    "age= 21"
   ]
  },
  {
   "cell_type": "code",
   "execution_count": null,
   "id": "24b002de-20ac-46aa-9168-03e3c64ce6fb",
   "metadata": {},
   "outputs": [],
   "source": [
    "# This is a comment. It will not run\n",
    "# You can echovalues without using print in this notebook"
   ]
  },
  {
   "cell_type": "code",
   "execution_count": null,
   "id": "d2c1a713-de49-4962-8c03-7f55e5a8aaf1",
   "metadata": {},
   "outputs": [],
   "source": [
    "name"
   ]
  },
  {
   "cell_type": "markdown",
   "id": "928c94a2-1f58-4515-8d62-80e1ccb44621",
   "metadata": {},
   "source": [
    "# Variables and values"
   ]
  },
  {
   "cell_type": "code",
   "execution_count": null,
   "id": "20609b2f-628b-4764-8aa0-b80063aaa0c8",
   "metadata": {},
   "outputs": [],
   "source": [
    "# Variables can be used in calculations\n",
    "print(age)\n",
    "age = age + 3\n",
    "print (age)"
   ]
  },
  {
   "cell_type": "code",
   "execution_count": null,
   "id": "824b6aa0-b023-4777-a349-450160a55ab1",
   "metadata": {},
   "outputs": [],
   "source": [
    "# Order of Operations matters!\n",
    "first = 1\n",
    "second = first * 5\n",
    "first = 2\n",
    "print (first)\n",
    "print (second)"
   ]
  },
  {
   "cell_type": "code",
   "execution_count": null,
   "id": "c608c9ae-084e-481a-8f52-70ea9c913d8a",
   "metadata": {},
   "outputs": [],
   "source": [
    "# Values have types. Types affect what you can do with them.\n",
    "print (5-3)\n",
    "#print (\"hello\"-\"h\")"
   ]
  },
  {
   "cell_type": "code",
   "execution_count": null,
   "id": "6bc155e4-4f28-4f94-bdcb-34c28ab88ca0",
   "metadata": {},
   "outputs": [],
   "source": [
    "print(len(\"hello\"))\n",
    "#print(len(6))"
   ]
  },
  {
   "cell_type": "code",
   "execution_count": null,
   "id": "3beb20b5-eff6-444c-8185-74626d23db4d",
   "metadata": {},
   "outputs": [],
   "source": [
    "print (5 // 3)\n",
    "print (5 / 3)\n",
    "print (5 % 3)\n"
   ]
  },
  {
   "cell_type": "markdown",
   "id": "a907de87-87a3-4e4e-a110-fb8af7358436",
   "metadata": {},
   "source": [
    "# Getting Help"
   ]
  },
  {
   "cell_type": "code",
   "execution_count": null,
   "id": "18d67b2d-e905-4746-a00e-af9e6a0b4d64",
   "metadata": {},
   "outputs": [],
   "source": [
    "# Rounding numbers is built in\n",
    "round (3.14159)"
   ]
  },
  {
   "cell_type": "code",
   "execution_count": null,
   "id": "aed87979-13e9-4813-ac5b-ac9baaf9b4ba",
   "metadata": {},
   "outputs": [],
   "source": [
    "round(3.14159,2)"
   ]
  },
  {
   "cell_type": "code",
   "execution_count": null,
   "id": "4daa0548-2675-4866-8277-c89d2d230ac0",
   "metadata": {},
   "outputs": [],
   "source": [
    "round(3.14159, ndigits=2)"
   ]
  },
  {
   "cell_type": "code",
   "execution_count": null,
   "id": "b782279b-f7f6-491b-ab40-1bae11768f24",
   "metadata": {},
   "outputs": [],
   "source": [
    "# All functions return a new value\n",
    "rounded_pi=round(3.14159,2)\n",
    "print(rounded_pi)"
   ]
  },
  {
   "cell_type": "code",
   "execution_count": null,
   "id": "4138196d-be32-42e9-a07e-77d00def6035",
   "metadata": {},
   "outputs": [],
   "source": [
    "radiance=1.0\n",
    "radiance=max(2.1,2.0+min(radiance,1.1*radiance-0.5))\n",
    "print(radiance)"
   ]
  },
  {
   "cell_type": "code",
   "execution_count": null,
   "id": "9d43c74b-1477-4031-8002-4780d74f8158",
   "metadata": {},
   "outputs": [],
   "source": [
    "# Break down these operations\n",
    "radiance = 1.0\n",
    "min_arg_2= 1.1 * radiance -0.5\n",
    "print(\"Min arg2:\", min_arg_2)\n",
    "\n",
    "min_result = min(radiance, min_arg_2)\n",
    "print(\"Min result:\",min_result)\n",
    "\n",
    "radiance=max(2.1,2.0 + min_result)\n",
    "print(radiance)"
   ]
  },
  {
   "cell_type": "markdown",
   "id": "c7e417c5-bb54-49af-86e8-dc3c8e2f8e7c",
   "metadata": {},
   "source": [
    "# A Brief Interlude with Git"
   ]
  },
  {
   "cell_type": "markdown",
   "id": "6a12b8a4-ceec-47fe-8420-99e2cf21f71b",
   "metadata": {},
   "source": [
    "# Libraries"
   ]
  },
  {
   "cell_type": "code",
   "execution_count": null,
   "id": "fef02b2e-2dd0-4360-baea-692df56865e0",
   "metadata": {},
   "outputs": [],
   "source": [
    "import math"
   ]
  },
  {
   "cell_type": "code",
   "execution_count": null,
   "id": "ef00f1a5-9b0d-4227-85a8-f86c9df68932",
   "metadata": {},
   "outputs": [],
   "source": [
    "math.pi"
   ]
  },
  {
   "cell_type": "code",
   "execution_count": null,
   "id": "419ce8f7-82dd-42f5-990e-7fec7def6589",
   "metadata": {},
   "outputs": [],
   "source": [
    "print(math.cos(math.pi))"
   ]
  },
  {
   "cell_type": "code",
   "execution_count": null,
   "id": "8c680962-9509-43ed-9b7e-eb6feb4857bf",
   "metadata": {},
   "outputs": [],
   "source": [
    "# get complete help with help ()\n",
    "# help(math)\n",
    "# Get a list of options with dir()\n",
    "print(dir(math))"
   ]
  },
  {
   "cell_type": "markdown",
   "id": "7818f3eb-21d3-4e31-b6e4-efb086580ecc",
   "metadata": {},
   "source": [
    "# List"
   ]
  },
  {
   "cell_type": "code",
   "execution_count": null,
   "id": "3109bbb2-c7da-4f01-9b6b-7271b16107eb",
   "metadata": {},
   "outputs": [],
   "source": [
    "# A list is an ordered collection of stuff\n",
    "fruits = [\"apple\",\"banana\",\"cherry\",\"date\",\"elderberry\",\"fig\"]"
   ]
  },
  {
   "cell_type": "code",
   "execution_count": null,
   "id": "ad4d8dc7-db0a-4182-b7fb-679fceb00b42",
   "metadata": {},
   "outputs": [],
   "source": [
    "fruits"
   ]
  },
  {
   "cell_type": "code",
   "execution_count": null,
   "id": "0d640da0-eab6-4825-aa58-3455bf551712",
   "metadata": {},
   "outputs": [],
   "source": [
    "len(fruits)"
   ]
  },
  {
   "cell_type": "code",
   "execution_count": null,
   "id": "9fd1d6cb-d21f-48d9-9b45-d6cb3c46edb0",
   "metadata": {},
   "outputs": [],
   "source": [
    "# Lists are indeced by osition, counting from zero\n",
    "# First item\n",
    "print(fruits[0])"
   ]
  },
  {
   "cell_type": "code",
   "execution_count": null,
   "id": "94bcdbba-1a29-4ba7-9ad4-0a9d0b9f7219",
   "metadata": {},
   "outputs": [],
   "source": [
    "# Get subsets by slicing the list\n",
    "# Get the first 3 items\n",
    "fruits[0:3]"
   ]
  },
  {
   "cell_type": "code",
   "execution_count": null,
   "id": "71cc6c70-0f43-40a2-b37e-187f730983e1",
   "metadata": {},
   "outputs": [],
   "source": [
    "# Get items by step\n",
    "# Get the first five items, every other item\n",
    "fruits[0:5:2]"
   ]
  },
  {
   "cell_type": "markdown",
   "id": "75bc6d26-32a4-4f86-9eee-aea1ed86bd32",
   "metadata": {},
   "source": [
    "# Examles"
   ]
  },
  {
   "cell_type": "code",
   "execution_count": null,
   "id": "41c08f93-3c2d-49ed-898c-ff8bb1ee5a75",
   "metadata": {},
   "outputs": [],
   "source": [
    "fruits[-1]\n",
    "#fruits[20]\n",
    "fruits[-3]"
   ]
  },
  {
   "cell_type": "code",
   "execution_count": null,
   "id": "9c322c28-ca2d-479e-96d5-a417c0d1443a",
   "metadata": {},
   "outputs": [],
   "source": [
    "fruits[-1]"
   ]
  },
  {
   "cell_type": "code",
   "execution_count": null,
   "id": "835454b3-14d2-41d5-b36b-b7962fd4facd",
   "metadata": {},
   "outputs": [],
   "source": [
    "#fruits[20]"
   ]
  },
  {
   "cell_type": "markdown",
   "id": "83283910-e653-4b81-a99c-0472a794e24f",
   "metadata": {},
   "source": [
    "fruits[-3:]"
   ]
  },
  {
   "cell_type": "code",
   "execution_count": null,
   "id": "ca5e09c3-3376-4a8f-9c4e-d41ad2258c20",
   "metadata": {},
   "outputs": [],
   "source": [
    "print(fruits)"
   ]
  },
  {
   "cell_type": "markdown",
   "id": "1bb933ad-b20a-4bf1-86dd-32520c53a68e",
   "metadata": {},
   "source": [
    "# Adding stuff to lists"
   ]
  },
  {
   "cell_type": "code",
   "execution_count": null,
   "id": "0c58ecc5-4a30-4c42-80c3-47bbb10df743",
   "metadata": {},
   "outputs": [],
   "source": [
    "# Update a specific item\n",
    "print(fruits)\n",
    "fruits[0]= \"apricot\""
   ]
  },
  {
   "cell_type": "code",
   "execution_count": null,
   "id": "ae7f12da-84eb-4487-bb5a-8747ee929ad4",
   "metadata": {},
   "outputs": [],
   "source": [
    "# Add new items to the list\n",
    "fruits.append(\"grape\")\n",
    "print(fruits)"
   ]
  },
  {
   "cell_type": "code",
   "execution_count": null,
   "id": "9bad4f90-876b-4e79-adf2-069ad4c94cf2",
   "metadata": {},
   "outputs": [],
   "source": [
    "# Add items from a second list to the first list\n",
    "more_fruits=[\"honeydew\",\"imbe\",\"jackfruit\"]\n",
    "print(more_fruits)\n",
    "fruits.extend(more_fruits)\n",
    "print(fruits)"
   ]
  },
  {
   "cell_type": "code",
   "execution_count": null,
   "id": "9f3723ea-9d47-400f-a592-7aa5fda5f129",
   "metadata": {},
   "outputs": [],
   "source": [
    "# Many functions operate on collections\n",
    "# Asessing our wide receiving corp\n",
    "receiving_yards = [450,370,870,150]\n",
    "\n",
    "mean_yards = sum(receiving_yards)/len(receiving_yards)\n",
    "print(mean_yards)"
   ]
  },
  {
   "cell_type": "markdown",
   "id": "1f793a8f-29b3-4d15-af9e-069bb49b772f",
   "metadata": {},
   "source": [
    "# For loops"
   ]
  },
  {
   "cell_type": "code",
   "execution_count": null,
   "id": "726805f6-1d8d-4ec5-93eb-a547ca16460b",
   "metadata": {
    "scrolled": true
   },
   "outputs": [],
   "source": [
    "for fruit in fruits:\n",
    "    print(fruit)"
   ]
  },
  {
   "cell_type": "code",
   "execution_count": null,
   "id": "b8ee8577-a271-4572-a8ff-9814dd18e953",
   "metadata": {},
   "outputs": [],
   "source": [
    "# Code blocks can contain many statements\n",
    "primes = [2, 3, 5]\n",
    "for p in primes:\n",
    "    squared = p**2\n",
    "    cubed = p**3\n",
    "    print(p, squared, cubed)"
   ]
  },
  {
   "cell_type": "code",
   "execution_count": null,
   "id": "799b6446-6364-4779-9f10-3d219016ca25",
   "metadata": {},
   "outputs": [],
   "source": [
    "# Create a new collection from an existing collection\n",
    "primes_squared=[]\n",
    "for p in primes:\n",
    "    primes_squared.append(p ** 2)\n",
    "\n",
    "print(primes_squared)"
   ]
  },
  {
   "cell_type": "code",
   "execution_count": null,
   "id": "c4b21c1b-4fa9-4469-9025-1f5ad7bab3a2",
   "metadata": {},
   "outputs": [],
   "source": [
    "total_length=0\n",
    "for f in fruits:\n",
    "    length_each= len(f)\n",
    "    total_length = total_length+(length_each)\n",
    "    print(total_length)"
   ]
  },
  {
   "cell_type": "code",
   "execution_count": null,
   "id": "e3f321fb-140e-4e1a-8e25-e6438ff282f4",
   "metadata": {},
   "outputs": [],
   "source": [
    "print(fruits)"
   ]
  },
  {
   "cell_type": "code",
   "execution_count": null,
   "id": "4050026f-d5bd-491b-8093-d8493ba4b4dc",
   "metadata": {},
   "outputs": [],
   "source": [
    "# Generator comprehension\n",
    "sum(len(f) for f in fruits)"
   ]
  },
  {
   "cell_type": "code",
   "execution_count": null,
   "id": "2ab64ede-e518-494f-a1b3-d00807f472be",
   "metadata": {},
   "outputs": [],
   "source": [
    "joined_fruits = \"\".join(fruits)\n",
    "print(joined_fruits)\n",
    "print(len(joined_fruits))"
   ]
  },
  {
   "cell_type": "code",
   "execution_count": null,
   "id": "62c8ab28-b3d7-4acf-82ce-eda6dfed6bfc",
   "metadata": {},
   "outputs": [],
   "source": []
  }
 ],
 "metadata": {
  "kernelspec": {
   "display_name": "Python 3 (ipykernel)",
   "language": "python",
   "name": "python3"
  },
  "language_info": {
   "codemirror_mode": {
    "name": "ipython",
    "version": 3
   },
   "file_extension": ".py",
   "mimetype": "text/x-python",
   "name": "python",
   "nbconvert_exporter": "python",
   "pygments_lexer": "ipython3",
   "version": "3.12.4"
  }
 },
 "nbformat": 4,
 "nbformat_minor": 5
}
